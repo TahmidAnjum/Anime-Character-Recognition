{
  "nbformat": 4,
  "nbformat_minor": 0,
  "metadata": {
    "colab": {
      "name": "Untitled0.ipynb",
      "provenance": [],
      "collapsed_sections": []
    },
    "kernelspec": {
      "name": "python3",
      "display_name": "Python 3"
    },
    "language_info": {
      "name": "python"
    },
    "accelerator": "GPU"
  },
  "cells": [
    {
      "cell_type": "code",
      "execution_count": null,
      "metadata": {
        "id": "Pe5XEHilVL60"
      },
      "outputs": [],
      "source": [
        "!pip install --quiet easyfsl"
      ]
    },
    {
      "cell_type": "code",
      "source": [
        "from google.colab import drive\n",
        "drive.mount('/content/drive')\n"
      ],
      "metadata": {
        "id": "YmT04934VVF2"
      },
      "execution_count": null,
      "outputs": []
    },
    {
      "cell_type": "code",
      "source": [
        "from easyfsl.data_tools import EasySet, TaskSampler\n",
        "from torch.utils.data import DataLoader\n",
        "train_set = EasySet(specs_file=\"/content/drive/MyDrive/JsonFiles/train.json\", training=True)\n",
        "train_sampler = TaskSampler(\n",
        "    train_set, n_way=5, n_shot=5, n_query=10, n_tasks=1000\n",
        ")\n",
        "\n",
        "train_loader = DataLoader(\n",
        "    train_set,\n",
        "    batch_sampler=train_sampler,\n",
        "    num_workers=12,\n",
        "    pin_memory=True,\n",
        "    collate_fn=train_sampler.episodic_collate_fn,\n",
        ")"
      ],
      "metadata": {
        "id": "IL4b7ZMWVfFB"
      },
      "execution_count": null,
      "outputs": []
    },
    {
      "cell_type": "code",
      "source": [
        "from easyfsl.methods import PrototypicalNetworks\n",
        "from torch import nn\n",
        "from torch.optim import Adam\n",
        "from torchvision.models import resnet18\n",
        "\n",
        "convolutional_network = resnet18(pretrained=False)\n",
        "convolutional_network.fc = nn.Flatten()\n",
        "model = PrototypicalNetworks(convolutional_network).cuda()\n",
        "\n",
        "optimizer = Adam(params=model.parameters())\n",
        "\n",
        "model.fit(train_loader, optimizer)"
      ],
      "metadata": {
        "id": "3W5cjbuEVm-G"
      },
      "execution_count": null,
      "outputs": []
    },
    {
      "cell_type": "code",
      "source": [
        "test_set = EasySet(specs_file=\"/content/drive/MyDrive/JsonFiles/test.json\", training=False)\n",
        "test_sampler = TaskSampler(\n",
        "    test_set, n_way=5, n_shot=5, n_query=10, n_tasks=100\n",
        ")\n",
        "\n",
        "test_loader = DataLoader(\n",
        "    test_set,\n",
        "    batch_sampler=test_sampler,\n",
        "    num_workers=12,\n",
        "    pin_memory=True,\n",
        "    collate_fn=test_sampler.episodic_collate_fn,\n",
        ")\n",
        "\n",
        "accuracy = model.evaluate(test_loader)\n",
        "print(f\"Average accuracy : {(100 * accuracy):.2f}\")"
      ],
      "metadata": {
        "id": "HbJtYSCGXVtA"
      },
      "execution_count": null,
      "outputs": []
    }
  ]
}